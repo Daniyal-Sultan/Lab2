{
  "nbformat": 4,
  "nbformat_minor": 0,
  "metadata": {
    "colab": {
      "provenance": []
    },
    "kernelspec": {
      "name": "python3",
      "display_name": "Python 3"
    },
    "language_info": {
      "name": "python"
    }
  },
  "cells": [
    {
      "cell_type": "code",
      "execution_count": 5,
      "metadata": {
        "colab": {
          "base_uri": "https://localhost:8080/"
        },
        "id": "CM9NucBlzdLh",
        "outputId": "0b07a4fe-f130-4b83-b22a-25305513d340"
      },
      "outputs": [
        {
          "output_type": "stream",
          "name": "stdout",
          "text": [
            "sepal length (cm): \n",
            "Mean: 5.843333333333334\n",
            "Median: 5.8\n",
            "Standard Deviation: 0.8253012917851409\n",
            "Minimum: 4.3\n",
            "Minimum: 7.9\n",
            "\n",
            "sepal width (cm): \n",
            "Mean: 3.0573333333333337\n",
            "Median: 3.0\n",
            "Standard Deviation: 0.4344109677354946\n",
            "Minimum: 2.0\n",
            "Minimum: 4.4\n",
            "\n",
            "petal length (cm): \n",
            "Mean: 3.7580000000000005\n",
            "Median: 4.35\n",
            "Standard Deviation: 1.759404065775303\n",
            "Minimum: 1.0\n",
            "Minimum: 6.9\n",
            "\n",
            "petal width (cm): \n",
            "Mean: 1.1993333333333336\n",
            "Median: 1.3\n",
            "Standard Deviation: 0.7596926279021594\n",
            "Minimum: 0.1\n",
            "Minimum: 2.5\n",
            "\n"
          ]
        }
      ],
      "source": [
        "from sklearn.datasets import load_iris\n",
        "import matplotlib.pyplot as plt\n",
        "import numpy as np\n",
        "\n",
        "iris = load_iris()\n",
        "\n",
        "X = np.array(iris.data)\n",
        "\n",
        "Y = np.array(iris.target)\n",
        "feature_names = iris.feature_names\n",
        "\n",
        "for i, feature in enumerate(feature_names):\n",
        "  print(f\"{feature}: \")\n",
        "  print(f\"Mean: {np.mean(X[:,i])}\")\n",
        "  print(f\"Median: {np.median(X[:,i])}\")\n",
        "  print(f\"Standard Deviation: {np.std(X[:,i])}\")\n",
        "  print(f\"Minimum: {np.min(X[:,i])}\")\n",
        "  print(f\"Minimum: {np.max(X[:,i])}\\n\")\n",
        "\n",
        "\n",
        "SepL = X[:,0]\n",
        "SepW = X[:,1]\n",
        "\n",
        "PetL = X[:,2]\n",
        "PetW = X[:,3]\n",
        "\n",
        "plt.scatter(SepL,SepW, c='blue', alpha = 0.5)\n",
        "plt.xlabel(\"Sepal Length\")\n",
        "plt.ylabel(\"Sepal Width\")\n",
        "plt.show()\n",
        "\n",
        "plt.hist(SepL, bins=10, c='green', alpha = 0.7)\n",
        "plt.title(\"Sepal Length Distribution\")\n",
        "plt.show()\n",
        "\n",
        "\n",
        "plt.plot(PetL,PetW, color='red')\n",
        "plt.xlabel(\"Petal Length\")\n",
        "plt.ylabel(\"Petal Width\")\n",
        "plt.show()"
      ]
    }
  ]
}